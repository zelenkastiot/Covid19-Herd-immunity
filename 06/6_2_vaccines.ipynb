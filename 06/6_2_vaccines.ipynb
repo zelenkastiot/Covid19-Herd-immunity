{
 "cells": [
  {
   "cell_type": "markdown",
   "metadata": {},
   "source": [
    "# Воведување а вакцини"
   ]
  },
  {
   "cell_type": "code",
   "execution_count": null,
   "metadata": {
    "ExecuteTime": {
     "end_time": "2021-07-19T23:47:34.377385Z",
     "start_time": "2021-07-19T23:47:34.354318Z"
    }
   },
   "outputs": [],
   "source": [
    "import numpy\n",
    "import networkx\n",
    "import epyc\n",
    "import epydemic\n",
    "import pandas\n",
    "import mpmath\n",
    "from networkx import Graph\n",
    "from typing import Dict, Any, Union, cast\n",
    "from epydemic import Dynamics, Process, NetworkGenerator\n",
    "\n",
    "import matplotlib\n",
    "%matplotlib inline\n",
    "%config InlineBackend.figure_format = 'png'\n",
    "matplotlib.rcParams['figure.dpi'] = 300\n",
    "import matplotlib.pyplot as plt\n",
    "import seaborn\n",
    "matplotlib.style.use('seaborn')\n",
    "seaborn.set_context(\"notebook\", font_scale=1.75)"
   ]
  },
  {
   "cell_type": "code",
   "execution_count": null,
   "metadata": {
    "ExecuteTime": {
     "end_time": "2021-07-19T23:47:34.706787Z",
     "start_time": "2021-07-19T23:47:34.702789Z"
    }
   },
   "outputs": [],
   "source": [
    "class MonitoredSIR(epydemic.SIR, epydemic.Monitor):\n",
    " \n",
    "    def __init__(self):\n",
    "        super(MonitoredSIR, self).__init__()\n",
    "        \n",
    "    def build(self, params):\n",
    "        '''Build the observation process.\n",
    "        \n",
    "        :param params: the experimental parameters'''\n",
    "        super(MonitoredSIR, self).build(params)\n",
    "\n",
    "        # also monitor other compartments\n",
    "        self.trackNodesInCompartment(epydemic.SIR.SUSCEPTIBLE)\n",
    "        self.trackNodesInCompartment(epydemic.SIR.REMOVED)"
   ]
  },
  {
   "cell_type": "code",
   "execution_count": null,
   "metadata": {
    "ExecuteTime": {
     "end_time": "2021-07-20T00:10:42.356013Z",
     "start_time": "2021-07-20T00:10:42.337621Z"
    }
   },
   "outputs": [],
   "source": [
    "class PLCNetworkDynamics(epydemic.StochasticDynamics):\n",
    "    \n",
    "    # Experimental paramerters\n",
    "    N = 'N'\n",
    "    ALPHA = 'alpha'\n",
    "    CUTOFF = 'cutoff'\n",
    "    \n",
    "    def __init__(self, p):\n",
    "        super(PLCNetworkDynamics, self).__init__(p)\n",
    "\n",
    "    def makePowerlawWithCutoff(self, alpha, cutoff):\n",
    "        C = 1.0 / mpmath.polylog(alpha, numpy.exp(-1.0 / cutoff))\n",
    "        def p(k):\n",
    "            return (pow((k + 0.0), -alpha) * numpy.exp(-(k + 0.0) / cutoff)) * C\n",
    "        return p\n",
    "    \n",
    "    def generatePLC(self, N, alpha, cutoff, maxdeg=100):\n",
    "        p = self.makePowerlawWithCutoff(alpha, cutoff)\n",
    "        rng = numpy.random.default_rng()\n",
    "        ns = []\n",
    "        t = 0\n",
    "        for i in range(N):\n",
    "            while True:\n",
    "                k = rng.integers(1, maxdeg)\n",
    "                if rng.random() < p(k):\n",
    "                    ns.append(k)\n",
    "                    t += k\n",
    "                    break\n",
    "        while t % 2 != 0:\n",
    "            i = rng.integers(0, len(ns) - 1)\n",
    "            t -= ns[i]\n",
    "            del ns[i]\n",
    "            while True:\n",
    "                k = rng.integers(1, maxdeg)\n",
    "                if rng.random() < p(k):\n",
    "                    ns.append(k)\n",
    "                    t += k\n",
    "                    break\n",
    "        return networkx.configuration_model(ns, create_using=networkx.Graph())\n",
    "\n",
    "    def configure(self, params):\n",
    "        super(PLCNetworkDynamics, self).configure(params)\n",
    "        \n",
    "        # build a random powerlaw-with-cutoff network with the given parameters\n",
    "        N = params[self.N]\n",
    "        alpha = params[self.ALPHA]\n",
    "        cutoff = params[self.CUTOFF]\n",
    "        g = self.generatePLC(N, alpha, cutoff)\n",
    "        self._network = g"
   ]
  },
  {
   "cell_type": "code",
   "execution_count": null,
   "metadata": {
    "ExecuteTime": {
     "end_time": "2021-07-20T00:10:42.839656Z",
     "start_time": "2021-07-20T00:10:42.822400Z"
    }
   },
   "outputs": [],
   "source": [
    "\n",
    "# network parameters\n",
    "N = 10000\n",
    "alpha = 2\n",
    "\n",
    "# simulation time\n",
    "T = 1000\n",
    "\n",
    "# disease dynamic parameters\n",
    "pInfected = 0.001\n",
    "pInfect = 0.01\n",
    "pRemove = 0.002"
   ]
  },
  {
   "cell_type": "code",
   "execution_count": null,
   "metadata": {
    "ExecuteTime": {
     "end_time": "2021-07-20T00:10:43.309394Z",
     "start_time": "2021-07-20T00:10:43.291881Z"
    }
   },
   "outputs": [],
   "source": [
    "dir(PLCNetworkDynamics)"
   ]
  },
  {
   "cell_type": "code",
   "execution_count": null,
   "metadata": {
    "ExecuteTime": {
     "end_time": "2021-07-20T00:11:55.613203Z",
     "start_time": "2021-07-20T00:10:44.838510Z"
    }
   },
   "outputs": [],
   "source": [
    "# set up the experiment\n",
    "lab = epyc.Lab()\n",
    "lab[epydemic.SIR.P_INFECTED] = pInfected\n",
    "lab[epydemic.SIR.P_INFECT] = pInfect\n",
    "lab[epydemic.SIR.P_REMOVE] = pRemove\n",
    "lab[PLCNetworkDynamics.N] = N\n",
    "lab[PLCNetworkDynamics.ALPHA] = alpha\n",
    "lab[PLCNetworkDynamics.CUTOFF] = numpy.linspace(10, 80,\n",
    "                                                num=4)\n",
    "lab[epydemic.Monitor.DELTA] = T / 50\n",
    "\n",
    "# perform one monitoried epidemic\n",
    "m = MonitoredSIR()\n",
    "e = PLCNetworkDynamics(m)\n",
    "lab.runExperiment(e)"
   ]
  },
  {
   "cell_type": "code",
   "execution_count": null,
   "metadata": {
    "ExecuteTime": {
     "end_time": "2021-07-20T00:05:58.173407Z",
     "start_time": "2021-07-20T00:05:15.381Z"
    }
   },
   "outputs": [],
   "source": [
    "df = lab.dataframe()\n",
    "cutoffs = df[PLCNetworkDynamics.CUTOFF].unique()\n",
    "    \n",
    "(fig, axs) = plt.subplots(2, 2, sharex=True, sharey=True,\n",
    "                          figsize=(10, 10))\n",
    "\n",
    "for (ax, cutoff) in [ (axs[0][0], cutoffs[0]),\n",
    "                      (axs[0][1], cutoffs[1]),\n",
    "                      (axs[1][0], cutoffs[2]), \n",
    "                      (axs[1][1], cutoffs[3]) ]:\n",
    "    rc = df[df[PLCNetworkDynamics.CUTOFF] == cutoff]\n",
    "    timeseries = rc[MonitoredSIR.TIMESERIES].iloc[0]\n",
    "    ts = timeseries[MonitoredSIR.OBSERVATIONS]\n",
    "    sss = timeseries[epydemic.SIR.SUSCEPTIBLE]\n",
    "    iss = timeseries[epydemic.SIR.INFECTED]\n",
    "    rss = timeseries[epydemic.SIR.REMOVED]\n",
    "\n",
    "    ax.plot(ts, sss, 'r.', label='suceptible')\n",
    "    ax.plot(ts, iss, 'g.', label='infected')\n",
    "    #ax.plot(ts, rss, 'ks', label='removed')\n",
    "\n",
    "    ax.set_title('$\\\\kappa = {kappa:.0f}$'.format(kappa=cutoff))\n",
    "    ax.set_xlim([0, T])\n",
    "    ax.set_ylim([0, N])\n",
    "    ax.legend(loc='upper right')\n",
    "\n",
    "# fine-tune the diagram\n",
    "plt.suptitle('SIR over powerlaw networks for different cutoffs ($N = {n}, \\\\alpha={a}$)'.format(n=N, a=alpha))\n",
    "for y in range(2):\n",
    "    axs[y][0].set_ylabel('population that is...')\n",
    "for x in range(2):\n",
    "    axs[1][x].set_xlabel('$t$')\n",
    "\n",
    "plt.show()"
   ]
  }
 ],
 "metadata": {
  "kernelspec": {
   "display_name": "Python 3",
   "language": "python",
   "name": "python3"
  },
  "language_info": {
   "codemirror_mode": {
    "name": "ipython",
    "version": 3
   },
   "file_extension": ".py",
   "mimetype": "text/x-python",
   "name": "python",
   "nbconvert_exporter": "python",
   "pygments_lexer": "ipython3",
   "version": "3.7.9"
  },
  "latex_envs": {
   "LaTeX_envs_menu_present": true,
   "autoclose": false,
   "autocomplete": true,
   "bibliofile": "biblio.bib",
   "cite_by": "apalike",
   "current_citInitial": 1,
   "eqLabelWithNumbers": true,
   "eqNumInitial": 1,
   "hotkeys": {
    "equation": "Ctrl-E",
    "itemize": "Ctrl-I"
   },
   "labels_anchors": false,
   "latex_user_defs": false,
   "report_style_numbering": false,
   "user_envs_cfg": false
  },
  "varInspector": {
   "cols": {
    "lenName": 16,
    "lenType": 16,
    "lenVar": 40
   },
   "kernels_config": {
    "python": {
     "delete_cmd_postfix": "",
     "delete_cmd_prefix": "del ",
     "library": "var_list.py",
     "varRefreshCmd": "print(var_dic_list())"
    },
    "r": {
     "delete_cmd_postfix": ") ",
     "delete_cmd_prefix": "rm(",
     "library": "var_list.r",
     "varRefreshCmd": "cat(var_dic_list()) "
    }
   },
   "types_to_exclude": [
    "module",
    "function",
    "builtin_function_or_method",
    "instance",
    "_Feature"
   ],
   "window_display": false
  }
 },
 "nbformat": 4,
 "nbformat_minor": 5
}
