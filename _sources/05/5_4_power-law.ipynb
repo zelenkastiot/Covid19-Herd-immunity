{
 "cells": [
  {
   "cell_type": "markdown",
   "id": "effective-controversy",
   "metadata": {},
   "source": [
    "# Алтернативна Power-law мрежа "
   ]
  },
  {
   "cell_type": "markdown",
   "id": "forward-consortium",
   "metadata": {},
   "source": [
    "**Human contact networks**"
   ]
  },
  {
   "cell_type": "markdown",
   "id": "helpful-polish",
   "metadata": {},
   "source": [
    "**Social structures**"
   ]
  },
  {
   "cell_type": "markdown",
   "id": "actual-analyst",
   "metadata": {},
   "source": [
    "**Powerlaw networks**"
   ]
  },
  {
   "cell_type": "markdown",
   "id": "lonely-bloom",
   "metadata": {},
   "source": [
    "**Building a contact network**"
   ]
  },
  {
   "cell_type": "code",
   "execution_count": 5,
   "id": "rapid-framing",
   "metadata": {
    "ExecuteTime": {
     "end_time": "2021-02-25T23:03:50.138127Z",
     "start_time": "2021-02-25T23:03:50.120094Z"
    }
   },
   "outputs": [],
   "source": [
    "import numpy\n",
    "import networkx\n",
    "import epyc\n",
    "import epydemic\n",
    "import pandas\n",
    "import mpmath\n",
    "\n",
    "import matplotlib\n",
    "%matplotlib inline\n",
    "%config InlineBackend.figure_format = 'png'\n",
    "matplotlib.rcParams['figure.dpi'] = 120\n",
    "import matplotlib.pyplot as plt\n",
    "import seaborn\n",
    "matplotlib.style.use('seaborn')\n",
    "seaborn.set_context(\"notebook\", font_scale=1)"
   ]
  },
  {
   "cell_type": "code",
   "execution_count": 2,
   "id": "according-typing",
   "metadata": {
    "ExecuteTime": {
     "end_time": "2021-02-25T23:02:28.052212Z",
     "start_time": "2021-02-25T23:02:28.043183Z"
    }
   },
   "outputs": [],
   "source": [
    "def generateFrom(N, p, maxdeg=100):\n",
    "    # construct degrees according to the distribution given\n",
    "    # by the model function\n",
    "    rng = numpy.random.default_rng()\n",
    "    ns = []\n",
    "    t = 0\n",
    "    for i in range(N):\n",
    "        while True:\n",
    "            # draw a random degree\n",
    "            k = rng.integers(1, maxdeg)\n",
    "            \n",
    "            # do we include a node with this degree?\n",
    "            if rng.random() < p(k):\n",
    "                # yes, add it to the sequence; otherwise,\n",
    "                # draw again\n",
    "                ns.append(k)\n",
    "                t += k\n",
    "                break\n",
    "\n",
    "    # the final sequence of degrees has to sum to an even\n",
    "    # number, as each edge has two endpoints\n",
    "    # if the sequence is odd, remove an element and draw\n",
    "    # another from the distribution, repeating until the\n",
    "    # overall sequence is even\n",
    "    while t % 2 != 0:\n",
    "        # pick a node at random\n",
    "        i = rng.integers(0, len(ns) - 1)\n",
    "\n",
    "        # remove it from the sequence and from the total\n",
    "        t -= ns[i]\n",
    "        del ns[i]\n",
    "            \n",
    "        # choose a new node to replace the one we removed\n",
    "        while True:\n",
    "            # draw a new degree from the distribution\n",
    "            k = rng.integers(1, maxdeg)\n",
    "            \n",
    "            # do we include a node with this degree?\n",
    "            if rng.random() < p(k):\n",
    "                # yes, add it to the sequence; otherwise,\n",
    "                # draw again\n",
    "                ns.append(k)\n",
    "                t += k\n",
    "                break\n",
    "\n",
    "    # populate the network using the configuration\n",
    "    # model with the given degree distribution\n",
    "    g = networkx.configuration_model(ns,\n",
    "                                     create_using=networkx.Graph())\n",
    "    return g"
   ]
  },
  {
   "cell_type": "code",
   "execution_count": 3,
   "id": "coordinated-valentine",
   "metadata": {
    "ExecuteTime": {
     "end_time": "2021-02-25T23:02:31.093702Z",
     "start_time": "2021-02-25T23:02:31.084268Z"
    }
   },
   "outputs": [],
   "source": [
    "def makePowerlawWithCutoff(alpha, cutoff):\n",
    "    C = 1.0 / mpmath.polylog(alpha, numpy.exp(-1.0 / cutoff))\n",
    "    def p(k):\n",
    "        return (pow((k + 0.0), -alpha) * numpy.exp(-(k + 0.0) / cutoff)) * C\n",
    "    return p"
   ]
  },
  {
   "cell_type": "code",
   "execution_count": 4,
   "id": "remarkable-trigger",
   "metadata": {
    "ExecuteTime": {
     "end_time": "2021-02-25T23:03:23.488017Z",
     "start_time": "2021-02-25T23:02:42.284884Z"
    }
   },
   "outputs": [],
   "source": [
    "# a small sample network\n",
    "N = 10000\n",
    "alpha = 2\n",
    "cutoff = 40\n",
    "\n",
    "# generate the network from the parameters describing the\n",
    "# degree distribution\n",
    "g = generateFrom(N, makePowerlawWithCutoff(alpha, cutoff))"
   ]
  },
  {
   "cell_type": "code",
   "execution_count": 6,
   "id": "russian-ecology",
   "metadata": {
    "ExecuteTime": {
     "end_time": "2021-02-25T23:03:54.630343Z",
     "start_time": "2021-02-25T23:03:53.566600Z"
    }
   },
   "outputs": [
    {
     "data": {
      "image/png": "[encoded data removed]",
      "text/plain": [
       "<Figure size 840x840 with 1 Axes>"
      ]
     },
     "metadata": {},
     "output_type": "display_data"
    }
   ],
   "source": [
    "fig = plt.figure(figsize=(7, 7))\n",
    "ax = fig.gca()\n",
    "\n",
    "# draw the degree distribution\n",
    "ks = list(dict(networkx.degree(g)).values())\n",
    "ax.hist(ks, bins=max(ks))\n",
    "ax.set_title('Алтернативна Powerlaw мрежа; degree distribution ($N = {n}, \\\\alpha = {e}, \\\\kappa = {k}$)'.format(n=N, e=alpha, k=cutoff), y=1.05)\n",
    "ax.semilogy()\n",
    "ax.set_xlabel('$k$')\n",
    "ax.set_ylabel('$\\\\log \\\\, N_k$')\n",
    "plt.show()"
   ]
  }
 ],
 "metadata": {
  "kernelspec": {
   "display_name": "Python 3",
   "language": "python",
   "name": "python3"
  },
  "language_info": {
   "codemirror_mode": {
    "name": "ipython",
    "version": 3
   },
   "file_extension": ".py",
   "mimetype": "text/x-python",
   "name": "python",
   "nbconvert_exporter": "python",
   "pygments_lexer": "ipython3",
   "version": "3.6.9"
  },
  "latex_envs": {
   "LaTeX_envs_menu_present": true,
   "autoclose": false,
   "autocomplete": true,
   "bibliofile": "biblio.bib",
   "cite_by": "apalike",
   "current_citInitial": 1,
   "eqLabelWithNumbers": true,
   "eqNumInitial": 1,
   "hotkeys": {
    "equation": "Ctrl-E",
    "itemize": "Ctrl-I"
   },
   "labels_anchors": false,
   "latex_user_defs": false,
   "report_style_numbering": false,
   "user_envs_cfg": false
  },
  "varInspector": {
   "cols": {
    "lenName": 16,
    "lenType": 16,
    "lenVar": 40
   },
   "kernels_config": {
    "python": {
     "delete_cmd_postfix": "",
     "delete_cmd_prefix": "del ",
     "library": "var_list.py",
     "varRefreshCmd": "print(var_dic_list())"
    },
    "r": {
     "delete_cmd_postfix": ") ",
     "delete_cmd_prefix": "rm(",
     "library": "var_list.r",
     "varRefreshCmd": "cat(var_dic_list()) "
    }
   },
   "types_to_exclude": [
    "module",
    "function",
    "builtin_function_or_method",
    "instance",
    "_Feature"
   ],
   "window_display": false
  }
 },
 "nbformat": 4,
 "nbformat_minor": 5
}
