{
 "cells": [
  {
   "cell_type": "markdown",
   "id": "motivated-anchor",
   "metadata": {},
   "source": [
    "# Алтернативна Power-law мрежа "
   ]
  },
  {
   "cell_type": "markdown",
   "id": "intended-board",
   "metadata": {},
   "source": [
    "Бидејќи сега знаеме дека структурата на мрежата може да влијае на начинот на однесување на болеста, очигледното прашање е точно каков е овој ефект. Поврзано прашање, нешто помалку апстрактно, е како овој ефект се манифестира на пореален модел на човечки контакти. Ако можеме да развиеме модел што имитира „реална“ социјална ситуација, можеме да се приближиме до тоа како може да се однесуваат вистинските епидемии.\n",
    "\n",
    "За изненадување, моделирањето човечки контакти е доста тешко. Навистина, сè уште нема научен консензус за тоа какви видови мрежи се „најдобриот“ модел - не само затоа што има многу различни социјални структури за кои треба да се смета. Градот не е само големо село: начините на кои луѓето се мешаат суштински се менуваат како што се зголемуваат географските и популационите размери, кога веќе не ги познавате соседите и кога патувате и мешате на пошироко подрачје. Дури и толку едноставна реченица имплицира многу математичка сложеност. Помалку мешање има во мал обем со соседите, но повеќе мешање на подолги растојанија со несоседите - и ова е пред да размислиме како мрежите на пријателство се меѓусебно поврзани и ефектите од контрамерките на болеста како што се социјалното дистанцирање што одеднаш станаа одлика на модерната живот.\n",
    "\n",
    "Доволно е да се каже дека студијата за мрежи за контакт е сè уште активно поле на истражување, спроведено експериментално со проучување на реални социјални мрежи како што се изложени на социјалните медиуми и теоретски со проучување на мрежи со тополошки структури кои се обидуваат да рефлектираат како луѓето комуницираат.\n",
    "\n",
    "Додека „вистинскиот“ модел сè уште не е познат, сепак можеме да напредуваме користејќи го (што тврдиме дека е) подобар модел од едноставната мрежа за ER и да истражиме какви ефекти има."
   ]
  },
  {
   "cell_type": "markdown",
   "id": "sought-share",
   "metadata": {},
   "source": [
    "## Контакт кај физички мрежи"
   ]
  },
  {
   "cell_type": "markdown",
   "id": "respected-directive",
   "metadata": {},
   "source": [
    "Човечките мрежи за контакт треба да ги моделираат структурите што всушност ги наоѓаме во човечките социјални структури. Овие структури се опширно проучувани и тие покажуваат огромна варијација - далеку повеќе отколку што наоѓаме во пример, структурата на мрежите во природните физички и биолошки системи. Ова е можеби заради разновидноста на културните фактори кои ги движат социјалните структури или можеби затоа што многу такви мрежи се дизајнирани за специфични цели, наместо едноставно да се развиваат по случаен избор.\n",
    "\n",
    "Еден заеднички фактор е дека степенот на дистрибуција на контактната мрежа не е нормален (во математичка смисла) како оној на мрежата ЕР. Наместо бројот на контакти да се соберат околу одредена средина, имаме тенденција да набудуваме мал број на јазли кои се многу **високо поврзани** - далеку повеќе поврзани отколку што е можно во мрежата на ЕР. Овие луѓе понекогаш се нарекуваат **хабови (hubs)**. Во моделирањето на болести, ови т.н. супер-распрснувачите може да бидат подобар израз: лица кои, доколку се заразат, потенцијално можат да заразат огромен број други. Ова има импликации врз контрамерките и вакцинацијата, имунитет на стадо и сл. \n",
    "\n",
    "Контактните мрежи честопати ги хиперболизираат факторите кои се присутни во основната математика. Изберете јазол во мрежата по случаен избор и погледнете ги неговите соседи: какви би очекувале да бидат нивните степени? Излегува дека степени на соседи на јазоли избрани по случаен избор имаат тенденција да бидат поголеми од оние на самиот јазол. Тоа е затоа што има повеќе можности за поврзување со јазол кој има висок степен отколку со оној со низок степен (Pareto Principle). Ова е [интересн експеримент](https://nbviewer.jupyter.org/github/zelenkastiot/FCSE-Methodology-in-Research/blob/master/Experiment%20.ipynb) што го имам спроведено за слична тематика, каде испитував на рандом синџири каква е дистрибуцијата на нивната должина. \n",
    "\n",
    "Овој сличен феномен како тој на Парето, во социјална средина значи дека вашите пријатели се обично попопуларни од вас: тие, во просек, имаат повеќе пријатели од просекот. Ова важи за секој јазол избран по случаен избор - и така, парадоксално, додека твоите пријатели се во просек попопуларни од тебе, нивните пријатели исто така се просечно попопуларни од нив. Јасно е дека ова не може да важи за сите во истата мрежа и е уште еден пример за тоа како просечноста може да прикрие важни детали.\n",
    "\n",
    "Потоа, тука е прашањето за случајност. Едно нешто што е очигледно во врска со мрежите за пријателство е дека тие имаат тенденција да не бидат случајни. Ако имате двајца пријатели, тие веројатно ќе бидат пријатели едни на други - иако не мора, бидејќи луѓето честопати имаат неповрзани под-групи на пријатели. Математички, ова се манифестира како **кластери** во мрежата кои се многу повеќе поврзани, што би се очекувало во случајно поврзана мрежа: всушност, зачудувачки е малку веројатно таквите структури да се појават во случајно изградена мрежа. Справувањето со ова групирање е математички многу предизвикувачко и претставува една од границите на тековните истражувања. Подобрите модели ќе го подобрат начинот на кој ги анализираме социјалните мрежи и ќе го подобриме потценувањето на процесите (како болести) што работат над нив."
   ]
  },
  {
   "cell_type": "markdown",
   "id": "acting-blame",
   "metadata": {},
   "source": [
    "## Powerlaw мрежи"
   ]
  },
  {
   "cell_type": "markdown",
   "id": "comprehensive-oriental",
   "metadata": {},
   "source": [
    "Значи, мрежите за контакт имаат некои луѓе кои имаат масовно повеќе контакти од другите, или од просекот. Ова е пренесено во крајност на социјалните медиуми, каде што релативно мал број јавни и славни личности имаат милиони „пријатели“. И покрај тоа што овој поим за „пријателство“ е различен од „вистинското“ пријателство, ние гледаме слични ефекти во физичките мрежи за контакт: мрежите што фаќаат како луѓето комуницираат во реалниот свет. Ова се случува на индивидуално социјално ниво, каде што некои луѓе се природни (или принудени) осамени, додека други се социјални пеперутки. Тоа се случува и преку фактори како што се работата, каде што некои луѓе - поштенски работници, касиери во продавници, возачи на автобуси, наставници - комуницираат со многу повеќе луѓе, и далеку поблиску, отколку со оние на други работни места.\n",
    "\n",
    "Каква дистрибуција на степени имаат ваквите мрежи? Тие често го следат **степенскиот закон (power law)**, каде што веројатноста јазолот да има одреден степен наликува на $p_k \\propto k^{-\\alpha} $, за одреден степен $\\alpha > 0$. Овие **power law мрежи** ги опишуваат структурите на мрежите во збунувачки опсег на апликации: најпознато, тие ја опишуваат структурата на основното инженерство на Интернет и бројот на врски до веб-страници. Овие мрежи се нарекуваат и **БА** мрежи според нивните откривачи, и **мрежи без размер (scale-free)** бидејќи нивните големи и мали структури изгледаат исто.\n",
    "\n",
    "Power law мрежи не се сосема соодветни за контактните мрежи, бидејќи тие можат да создадат јазли со навистина, навистина високи степени: премногу високи за да се појават во човечки социјални ситуации. \n",
    "\n",
    "\n",
    "Но, за среќа има варијација на оваа идеја, проучена од Newman, Watts и Strogatz [[15]](https://www.pnas.org/content/99/suppl_1/2566) и се покажа дека е подобро. Во овие мрежи дистрибуцијата на степенот на моќ-закон е „отсечена“ (cutoff) пред да може да стане преголема, во суштина поставувајќи таван на бројот на контакти што може да ги има една индивидуа. Изненадувачки, овие мрежи се познати како **powerlaw cutoff мрежи**. "
   ]
  },
  {
   "cell_type": "markdown",
   "id": "concrete-sellers",
   "metadata": {},
   "source": [
    "## Градење на ваква мрежа "
   ]
  },
  {
   "cell_type": "markdown",
   "id": "annual-violation",
   "metadata": {},
   "source": [
    "Градењето на ваква контактна мрежа веќе го имаше како готов формат, но јас се обидов да имитрам една тетратка што ја најдов. Идејата е оваа изградба на мрежа да резултира со мрежа каде што јазлите имаат точна дистрибуција на степен. Со други зборови, јазлите во мрежата со степен $k$ се појавуваат во дел предвидена со дистрибуцијата на степенот.\n",
    "\n",
    "Кога конструиравме EР мрежа, опишавме алгоритам кој, кога се следи, произведува мрежа со посакувана дистрибуција. Потребен ни е различен алгоритам за ракување со различни топологии. Излегува дека постои многу општ алгоритам, наречен **конфигурациски модел (configuration model)**, што може да конструира случајна мрежа со која било дистрибуција на степени.\n",
    "\n",
    "За да се изгради мрежа со големина $N$, конфигурацискиот модел зема список со $N$ броеви, секој опишува степен на јазол. Создава јазли со овие степени и ги поврзува нивните рабови случајно. Ако можеме да ја креираме низата степени што ја сакаме од дистрибуцијата на степени, можеме да го користиме моделот за конфигурација за да изградиме случајна мрежа со јазли што ги имаат тие степени.\n",
    "\n",
    "Ние дефинираме функција која, на даден степен $k$, ја враќа веројатноста $p_k$ на јазолот со тој степен да се појави во мрежата. Потоа дефинираме друга функција на која и ја обезбедуваме оваа функција какво влез, заедно со бројот на јазли што ги сакаме и која создава случајна мрежа. Постојано се избира случаен степен и потоа се избира случаен број помеѓу 0 и 1. Ако овој втор број е помал од веројатноста на јазол со настанување на тој степен, тој го додава степенот на низата; во спротивно, тој го повторува процесот за друг степен. Ова продолжува сè додека не имаме степени на $N$ јазол, а потоа можеме да преминеме на моделот за конфигурација за да се поврземе заедно."
   ]
  },
  {
   "cell_type": "code",
   "execution_count": 9,
   "id": "european-perspective",
   "metadata": {
    "ExecuteTime": {
     "end_time": "2021-07-25T00:42:33.592660Z",
     "start_time": "2021-07-25T00:42:33.587658Z"
    },
    "tags": [
     "remove-cell"
    ]
   },
   "outputs": [],
   "source": [
    "import numpy\n",
    "import networkx\n",
    "import epyc\n",
    "import epydemic\n",
    "import pandas\n",
    "import mpmath\n",
    "import matplotlib.pyplot as plt\n",
    "import seaborn\n",
    "\n",
    "matplotlib.rcParams['figure.dpi'] = 99\n",
    "matplotlib.style.use('seaborn')\n",
    "seaborn.set_context(\"notebook\", font_scale=.8)"
   ]
  },
  {
   "cell_type": "code",
   "execution_count": 10,
   "id": "medieval-depth",
   "metadata": {
    "ExecuteTime": {
     "end_time": "2021-07-25T00:42:35.053456Z",
     "start_time": "2021-07-25T00:42:35.027647Z"
    }
   },
   "outputs": [],
   "source": [
    "def generateFrom(N, p, maxdeg=100):\n",
    "    # конструирај степени согласно со дистрибуцијата дадена \n",
    "    # од функцијата модел p()\n",
    "    rng = numpy.random.default_rng()\n",
    "    ns = []\n",
    "    t = 0\n",
    "    for i in range(N):\n",
    "        while True:\n",
    "            # цртај рандом степен \n",
    "            k = rng.integers(1, maxdeg)\n",
    "            \n",
    "            # дали го додаваме овој степен на овој јазел? \n",
    "            if rng.random() < p(k):\n",
    "                # да, додади го во секвенцата; инаку,\n",
    "                # цртај повторно\n",
    "                ns.append(k)\n",
    "                t += k\n",
    "                break\n",
    "\n",
    "    # последната низа на степени треба да се сумира на еднаквост\n",
    "    # број, бидејќи секој раб има две крајни точки\n",
    "    # ако низата е непарна, отстранете елемент и нацртајте\n",
    "    # друг од дистрибуцијата, повторувајќи сè до\n",
    "    # целокупната низа е рамномерна\n",
    "    while t % 2 != 0:\n",
    "        # бирај јазол случајно \n",
    "        i = rng.integers(0, len(ns) - 1)\n",
    "\n",
    "        # острани го од секвенцата и од total\n",
    "        t -= ns[i]\n",
    "        del ns[i]\n",
    "            \n",
    "        # избери јазол кој го заменува отстранетиот \n",
    "        while True:\n",
    "            # исцртај нов степен од дистрибуцијата \n",
    "            k = rng.integers(1, maxdeg)\n",
    "            \n",
    "            # дали да вклучиме јазол со овој степен? \n",
    "            if rng.random() < p(k):\n",
    "                # да, додади го во секвенцата; инаку,\n",
    "                # цртај повторно\n",
    "                ns.append(k)\n",
    "                t += k\n",
    "                break\n",
    "\n",
    "    # населете ја мрежата користејќи ја конфигурацијата\n",
    "    # модел со дадената дистрибуција на степен\n",
    "    g = networkx.configuration_model(ns,\n",
    "                                     create_using=networkx.Graph())\n",
    "    return g"
   ]
  },
  {
   "cell_type": "markdown",
   "id": "dynamic-gilbert",
   "metadata": {},
   "source": [
    "Сега треба да ја опишеме дистрибуцијата на законот за напојување со намалување на степенот. Математички, веројатноста да наидете на јазол од степен $k$ под оваа дистрибуција е дадена со: \n",
    "\n",
    "\\begin{equation*}\n",
    "    p_k \\propto k ^ {- \\alpha} e ^ {- k / \\kappa}\n",
    "\\end{equation*}\n",
    "\n",
    "Бидејќи дистрибуцијата е опишана со два параметра - **степенот** $\\alpha$ и **cutoff** $\\kappa$ - ние дефинираме функција што ги зема овие два параметра и враќа функција што враќа $p_k$ за кој било степен $k$."
   ]
  },
  {
   "cell_type": "markdown",
   "id": "reserved-prospect",
   "metadata": {},
   "source": [
    "```{margin} Појаснување \n",
    "Бројот <code>C</code> во оваа функција е само нормализирана константа потребна за да се направат веројатностите за различните степени збир до 1, така што тие формираат валидна дистрибуција на веројатност.\n",
    "```"
   ]
  },
  {
   "cell_type": "code",
   "execution_count": 11,
   "id": "external-relief",
   "metadata": {
    "ExecuteTime": {
     "end_time": "2021-07-25T00:42:36.002460Z",
     "start_time": "2021-07-25T00:42:35.989130Z"
    }
   },
   "outputs": [],
   "source": [
    "def makePowerlawWithCutoff(alpha, cutoff):\n",
    "    C = 1.0 / mpmath.polylog(alpha, numpy.exp(-1.0 / cutoff))\n",
    "    def p(k):\n",
    "        return (pow((k + 0.0), -alpha) * numpy.exp(-(k + 0.0) / cutoff)) * C\n",
    "    return p"
   ]
  },
  {
   "cell_type": "markdown",
   "id": "cellular-lending",
   "metadata": {},
   "source": [
    "Потоа можеме да ја покажеме дистрибуцијата на степенот што резултира, со повторно создавање мрежа и потоа цртање на хистограм на степени на јазли."
   ]
  },
  {
   "cell_type": "code",
   "execution_count": 12,
   "id": "posted-beast",
   "metadata": {
    "ExecuteTime": {
     "end_time": "2021-07-25T00:43:08.377453Z",
     "start_time": "2021-07-25T00:42:36.541455Z"
    }
   },
   "outputs": [],
   "source": [
    "# мала мрежа + параметри\n",
    "N = 10000\n",
    "alpha = 2\n",
    "cutoff = 40\n",
    "\n",
    "# генерирање на мрежата од параметрите што ги опишуваат\n",
    "# дистрибуција на степени\n",
    "g = generateFrom(N, makePowerlawWithCutoff(alpha, cutoff))"
   ]
  },
  {
   "cell_type": "code",
   "execution_count": 13,
   "id": "respiratory-metadata",
   "metadata": {
    "ExecuteTime": {
     "end_time": "2021-07-25T00:43:09.038708Z",
     "start_time": "2021-07-25T00:43:08.397456Z"
    },
    "tags": [
     "hide-input"
    ]
   },
   "outputs": [
    {
     "data": {
      "image/png": "[encoded data removed]",
      "text/plain": [
       "<Figure size 693x693 with 1 Axes>"
      ]
     },
     "metadata": {
      "filenames": {
       "image/png": "C:\\Users\\zelen\\Desktop\\Covid-19\\Covid19-Herd-immunity\\_build\\jupyter_execute\\05\\5_3_power-law_15_0.png"
      }
     },
     "output_type": "display_data"
    }
   ],
   "source": [
    "fig = plt.figure(figsize=(7, 7))\n",
    "ax = fig.gca()\n",
    "\n",
    "# исцртај ја степенската дистрибуција\n",
    "ks = list(dict(networkx.degree(g)).values())\n",
    "ax.hist(ks, bins=max(ks), color='green')\n",
    "ax.set_title('Алтернативна Powerlaw мрежа; degree distribution ($N = {n}, \\\\alpha = {e}, \\\\kappa = {k}$)'.format(n=N, e=alpha, k=cutoff), y=1.05)\n",
    "ax.semilogy()\n",
    "ax.set_xlabel('$k$')\n",
    "ax.set_ylabel('$\\\\log \\\\, N_k$')\n",
    "plt.show()"
   ]
  },
  {
   "cell_type": "markdown",
   "id": "centered-somerset",
   "metadata": {},
   "source": [
    "Може да се забележи дека бројот на јазли паѓа експоненцијално се додека не го погоди просекот (40), по што станува навистина редок: има многу малку јазли со степени поголеми од вредноста на просекот."
   ]
  }
 ],
 "metadata": {
  "celltoolbar": "Edit Metadata",
  "kernelspec": {
   "display_name": "Python 3",
   "language": "python",
   "name": "python3"
  },
  "language_info": {
   "codemirror_mode": {
    "name": "ipython",
    "version": 3
   },
   "file_extension": ".py",
   "mimetype": "text/x-python",
   "name": "python",
   "nbconvert_exporter": "python",
   "pygments_lexer": "ipython3",
   "version": "3.7.9"
  },
  "latex_envs": {
   "LaTeX_envs_menu_present": true,
   "autoclose": false,
   "autocomplete": true,
   "bibliofile": "biblio.bib",
   "cite_by": "apalike",
   "current_citInitial": 1,
   "eqLabelWithNumbers": true,
   "eqNumInitial": 1,
   "hotkeys": {
    "equation": "Ctrl-E",
    "itemize": "Ctrl-I"
   },
   "labels_anchors": false,
   "latex_user_defs": false,
   "report_style_numbering": false,
   "user_envs_cfg": false
  },
  "varInspector": {
   "cols": {
    "lenName": 16,
    "lenType": 16,
    "lenVar": 40
   },
   "kernels_config": {
    "python": {
     "delete_cmd_postfix": "",
     "delete_cmd_prefix": "del ",
     "library": "var_list.py",
     "varRefreshCmd": "print(var_dic_list())"
    },
    "r": {
     "delete_cmd_postfix": ") ",
     "delete_cmd_prefix": "rm(",
     "library": "var_list.r",
     "varRefreshCmd": "cat(var_dic_list()) "
    }
   },
   "types_to_exclude": [
    "module",
    "function",
    "builtin_function_or_method",
    "instance",
    "_Feature"
   ],
   "window_display": false
  }
 },
 "nbformat": 4,
 "nbformat_minor": 5
}